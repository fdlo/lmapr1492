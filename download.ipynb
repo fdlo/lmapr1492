{
 "cells": [
  {
   "cell_type": "code",
   "execution_count": 1,
   "metadata": {},
   "outputs": [],
   "source": [
    "from pymatgen.ext.matproj import MPRester\n",
    "\n",
    "with MPRester(\"NLKe1dAg7yznVObH\") as m:\n",
    "    # Create a structure for material id mp-1115 (PtSe2)\n",
    "    structure = m.get_structure_by_material_id(\"mp-1115\")\n",
    "\n",
    "from pymatgen.io.cif import CifWriter\n",
    "\n",
    "w = CifWriter(structure, symprec=0.1)\n",
    "w.write_file(\"PtSe2_mp-1115.cif\")"
   ]
  }
 ],
 "metadata": {
  "kernelspec": {
   "display_name": "Python 3",
   "language": "python",
   "name": "python3"
  },
  "language_info": {
   "codemirror_mode": {
    "name": "ipython",
    "version": 3
   },
   "file_extension": ".py",
   "mimetype": "text/x-python",
   "name": "python",
   "nbconvert_exporter": "python",
   "pygments_lexer": "ipython3",
   "version": "3.6.8"
  }
 },
 "nbformat": 4,
 "nbformat_minor": 2
}
