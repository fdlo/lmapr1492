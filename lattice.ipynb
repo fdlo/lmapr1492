{
 "cells": [
  {
   "cell_type": "code",
   "execution_count": 14,
   "metadata": {},
   "outputs": [],
   "source": [
    "#Telecharger le ficher CIF du materiau mp-1115 (PtSe2)\n",
    "from pymatgen.ext.matproj import MPRester\n",
    "from pymatgen.io.cif import CifWriter\n",
    "\n",
    "\n",
    "with MPRester(\"NLKe1dAg7yznVObH\") as m:\n",
    "    # Create a structure for material id mp-1115 (PtSe2)\n",
    "    structure = m.get_structure_by_material_id(\"mp-1115\", True, True)\n",
    "\n",
    "w = CifWriter(structure)\n",
    "w.write_file(\"PtSe2_mp-1115.cif\")\n"
   ]
  },
  {
   "cell_type": "code",
   "execution_count": 15,
   "metadata": {},
   "outputs": [
    {
     "name": "stdout",
     "output_type": "stream",
     "text": [
      "Vecteurs de base du reseau direct:\n",
      "Vecteur a:\n",
      "[ 1.88051239 -3.25714301  0.        ]\n",
      "Vecteur b:\n",
      "[1.88051239 3.25714301 0.        ]\n",
      "Vecteur c:\n",
      "[0.        0.        6.1179707]\n",
      "Longueurs de a, b et c:\n",
      "(3.7610247877094554, 3.7610247877094554, 6.1179707)\n",
      "Angles alpha, beta et gamma:\n",
      "(90.0, 90.0, 120.00000000000001)\n",
      "\n",
      "Vecteurs de base du reseau reciproque:\n",
      "Vecteur a*:\n",
      "[ 1.6706046  -0.96452401  0.        ]\n",
      "Vecteur b*:\n",
      "[1.6706046  0.96452401 0.        ]\n",
      "Vecteur c*:\n",
      "[0.         0.         1.02700481]\n",
      "Longueurs de a*, b* et c*:\n",
      "(1.929048029847057, 1.9290480298470567, 1.0270048052337986)\n",
      "Angles alpha*, beta* et gamma*:\n",
      "(90.0, 90.0, 60.00000000000001)\n"
     ]
    }
   ],
   "source": [
    "#obtention de la maille dans le reseau direct (RD) et dans le reseau reciproque (RR)\n",
    "#(standard reciprocal lattice used for solid state physics)\n",
    "\n",
    "lattice_RD = structure.lattice\n",
    "lattice_RR = lat_RD.reciprocal_lattice\n",
    "\n",
    "#vecteurs de base dans le reseau direct:\n",
    "base_vectors_RD = lattice_RD.matrix\n",
    "\n",
    "base_lengths_RD = lattice_RD.abc\n",
    "base_angles_RD = lattice_RD.angles\n",
    "\n",
    "#vecteurs de base dans le reseau reciproque\n",
    "base_vectors_RR = lattice_RR.matrix\n",
    "\n",
    "base_lengths_RR = lattice_RR.abc\n",
    "base_angles_RR = lattice_RR.angles\n",
    "\n",
    "print(\"Vecteurs de base du reseau direct:\")\n",
    "print(\"Vecteur a:\")\n",
    "print(base_vectors_RD[0])\n",
    "print(\"Vecteur b:\")\n",
    "print(base_vectors_RD[1])\n",
    "print(\"Vecteur c:\")\n",
    "print(base_vectors_RD[2])\n",
    "print(\"Longueurs de a, b et c:\")\n",
    "print(base_lengths_RD)\n",
    "print(\"Angles alpha, beta et gamma:\")\n",
    "print(base_angles_RD)\n",
    "\n",
    "print(\"\\nVecteurs de base du reseau reciproque:\")\n",
    "print(\"Vecteur a*:\")\n",
    "print(base_vectors_RR[0])\n",
    "print(\"Vecteur b*:\")\n",
    "print(base_vectors_RR[1])\n",
    "print(\"Vecteur c*:\")\n",
    "print(base_vectors_RR[2])\n",
    "print(\"Longueurs de a*, b* et c*:\")\n",
    "print(base_lengths_RR)\n",
    "print(\"Angles alpha*, beta* et gamma*:\")\n",
    "print(base_angles_RR)\n",
    "\n"
   ]
  },
  {
   "cell_type": "code",
   "execution_count": 16,
   "metadata": {},
   "outputs": [],
   "source": [
    "#print(m.get_data(\"mp-1115\", prop=\"structure\"))"
   ]
  },
  {
   "cell_type": "code",
   "execution_count": 17,
   "metadata": {},
   "outputs": [
    {
     "name": "stdout",
     "output_type": "stream",
     "text": [
      "Type de maille:\n",
      "hexagonal\n",
      "Système cristallin:\n",
      "trigonal\n",
      "Groupe ponctuel:\n",
      "-3m\n"
     ]
    }
   ],
   "source": [
    "from pymatgen.symmetry import analyzer\n",
    "\n",
    "#SpacegroupAnalyser SGA:\n",
    "SGA = analyzer.SpacegroupAnalyzer(structure)\n",
    "\n",
    "#Obtention du type de maille, du systeme cristallin et du groupe ponctuel: \n",
    "\n",
    "lattype = SGA.get_lattice_type()\n",
    "crystsyst = SGA.get_crystal_system()\n",
    "pointgroup = SGA.get_point_group_symbol()\n",
    "\n",
    "print(\"Type de maille:\")\n",
    "print(lattype)\n",
    "print(\"Système cristallin:\")\n",
    "print(crystsyst)\n",
    "print(\"Groupe ponctuel:\")\n",
    "print(pointgroup)\n"
   ]
  },
  {
   "cell_type": "code",
   "execution_count": null,
   "metadata": {},
   "outputs": [],
   "source": []
  }
 ],
 "metadata": {
  "kernelspec": {
   "display_name": "Python 3",
   "language": "python",
   "name": "python3"
  },
  "language_info": {
   "codemirror_mode": {
    "name": "ipython",
    "version": 3
   },
   "file_extension": ".py",
   "mimetype": "text/x-python",
   "name": "python",
   "nbconvert_exporter": "python",
   "pygments_lexer": "ipython3",
   "version": "3.6.8"
  }
 },
 "nbformat": 4,
 "nbformat_minor": 2
}
