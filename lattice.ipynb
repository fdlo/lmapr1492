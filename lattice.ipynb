{
 "cells": [
  {
   "cell_type": "code",
   "execution_count": 14,
   "metadata": {},
   "outputs": [],
   "source": [
    "#Telecharger le ficher CIF du materiau mp-1115 (PtSe2)\n",
    "from pymatgen.ext.matproj import MPRester\n",
    "from pymatgen.io.cif import CifWriter\n",
    "\n",
    "with MPRester(\"NLKe1dAg7yznVObH\") as m:\n",
    "    # Create a structure for material id mp-1115 (PtSe2)\n",
    "    structure = m.get_structure_by_material_id(\"mp-1115\", True, True)\n",
    "\n",
    "w = CifWriter(structure)\n",
    "w.write_file(\"PtSe2_mp-1115.cif\")"
   ]
  },
  {
   "cell_type": "code",
   "execution_count": 15,
   "metadata": {},
   "outputs": [],
   "source": [
    "#obtention de la maille dans le reseau direct (RD) et dans le reseau reciproque (RR)\n",
    "\n",
    "lattice_RD = structure.lattice\n",
    "lattice_RR = lattice_RD.reciprocal_lattice\n",
    "\n",
    "#vecteurs de base dans le reseau direct:\n",
    "base_vectors_RD = lattice_RD.matrix\n",
    "\n",
    "base_lengths_RD = lattice_RD.abc\n",
    "base_angles_RD = lattice_RD.angles\n",
    "\n",
    "#vecteurs de base dans le reseau reciproque\n",
    "base_vectors_RR = lattice_RR.matrix\n",
    "\n",
    "base_lengths_RR = lattice_RR.abc\n",
    "base_angles_RR = lattice_RR.angles"
   ]
  },
  {
   "cell_type": "markdown",
   "metadata": {},
   "source": [
    "# Vecteurs de bases"
   ]
  },
  {
   "cell_type": "markdown",
   "metadata": {},
   "source": [
    "## Réseau direct (RD)"
   ]
  },
  {
   "cell_type": "code",
   "execution_count": 16,
   "metadata": {},
   "outputs": [
    {
     "name": "stdout",
     "output_type": "stream",
     "text": [
      "Vecteur a: [ 1.88051239 -3.25714301  0.        ]\n",
      "Vecteur b: [1.88051239 3.25714301 0.        ]\n",
      "Vecteur c: [0.        0.        6.1179707]\n",
      "\n",
      "Longueur du vecteur a: 3.7610247877094554\n",
      "Longueur du vecteur b: 3.7610247877094554\n",
      "Longueur du vecteur c: 6.1179707\n",
      "\n",
      "Angle alpha: 90.0\n",
      "Angle beta: 90.0\n",
      "Angle gamma: 120.00000000000001\n"
     ]
    }
   ],
   "source": [
    "print(\"Vecteur a:\", base_vectors_RD[0])\n",
    "print(\"Vecteur b:\", base_vectors_RD[1])\n",
    "print(\"Vecteur c:\", base_vectors_RD[2])\n",
    "print(\"\\nLongueur du vecteur a:\", base_lengths_RD[0])\n",
    "print(\"Longueur du vecteur b:\", base_lengths_RD[1])\n",
    "print(\"Longueur du vecteur c:\", base_lengths_RD[2])\n",
    "print(\"\\nAngle alpha:\", base_angles_RD[0])\n",
    "print(\"Angle beta:\", base_angles_RD[1])\n",
    "print(\"Angle gamma:\", base_angles_RD[2])"
   ]
  },
  {
   "cell_type": "markdown",
   "metadata": {},
   "source": [
    "## Réseau réciproque (RR)"
   ]
  },
  {
   "cell_type": "code",
   "execution_count": 17,
   "metadata": {},
   "outputs": [
    {
     "name": "stdout",
     "output_type": "stream",
     "text": [
      "Vecteur a*: [ 1.6706046  -0.96452401  0.        ]\n",
      "Vecteur b*: [1.6706046  0.96452401 0.        ]\n",
      "Vecteur c*: [0.         0.         1.02700481]\n",
      "\n",
      "Longueur du vecteur a*: 1.929048029847057\n",
      "Longueur du vecteur b*: 1.9290480298470567\n",
      "Longueur du vecteur c*: 1.0270048052337986\n",
      "\n",
      "Angle alpha*: 90.0\n",
      "Angle beta*: 90.0\n",
      "Angle gamma*: 60.00000000000001\n"
     ]
    }
   ],
   "source": [
    "print(\"Vecteur a*:\", base_vectors_RR[0])\n",
    "print(\"Vecteur b*:\", base_vectors_RR[1])\n",
    "print(\"Vecteur c*:\", base_vectors_RR[2])\n",
    "print(\"\\nLongueur du vecteur a*:\", base_lengths_RR[0])\n",
    "print(\"Longueur du vecteur b*:\", base_lengths_RR[1])\n",
    "print(\"Longueur du vecteur c*:\", base_lengths_RR[2])\n",
    "print(\"\\nAngle alpha*:\", base_angles_RR[0])\n",
    "print(\"Angle beta*:\", base_angles_RR[1])\n",
    "print(\"Angle gamma*:\", base_angles_RR[2])"
   ]
  },
  {
   "cell_type": "code",
   "execution_count": 18,
   "metadata": {},
   "outputs": [
    {
     "name": "stdout",
     "output_type": "stream",
     "text": [
      "Type de maille: hexagonal\n",
      "Système cristallin: trigonal\n",
      "Groupe ponctuel: -3m\n"
     ]
    }
   ],
   "source": [
    "from pymatgen.symmetry import analyzer\n",
    "\n",
    "#SpacegroupAnalyser SGA:\n",
    "SGA = analyzer.SpacegroupAnalyzer(structure)\n",
    "\n",
    "#Obtention du type de maille, du systeme cristallin et du groupe ponctuel: \n",
    "\n",
    "lattype = SGA.get_lattice_type()\n",
    "crystsyst = SGA.get_crystal_system()\n",
    "pointgroup = SGA.get_point_group_symbol()\n",
    "\n",
    "print(\"Type de maille:\", lattype)\n",
    "print(\"Système cristallin:\", crystsyst)\n",
    "print(\"Groupe ponctuel:\", pointgroup)\n",
    "\n",
    "\n"
   ]
  }
 ],
 "metadata": {
  "kernelspec": {
   "display_name": "Python 3",
   "language": "python",
   "name": "python3"
  },
  "language_info": {
   "codemirror_mode": {
    "name": "ipython",
    "version": 3
   },
   "file_extension": ".py",
   "mimetype": "text/x-python",
   "name": "python",
   "nbconvert_exporter": "python",
   "pygments_lexer": "ipython3",
   "version": "3.6.8"
  }
 },
 "nbformat": 4,
 "nbformat_minor": 2
}
